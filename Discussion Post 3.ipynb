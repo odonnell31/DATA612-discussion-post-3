{
 "cells": [
  {
   "cell_type": "markdown",
   "metadata": {},
   "source": [
    "## In what ways do you think Recommender Systems reinforce human bias?"
   ]
  },
  {
   "cell_type": "markdown",
   "metadata": {},
   "source": [
    "I think certain recommender systems are more prone to reinforce human bias. For example, a User-Based Collaborative Filtering system is a candidate for reinforcing bias. Let’s say a User-Based Collaborative Filtering system is used for something like Trip Advisor. Well, if a city (maybe Joshua Tree, CA) is most frequently visited by a certain segement of the population (rock climbers), maybe this will force Trip Advisor’s system to suggest Joshua Tree to more rock climbers. Then, those rock climbers rate “rock climbing at Jumbo Rocks” the best “thing to do in the area”. This will cause a cycle in the recommender system that has inherit human bias."
   ]
  },
  {
   "cell_type": "markdown",
   "metadata": {},
   "source": [
    "## Reflecting on the techniques we have covered, do you think recommender systems reinforce or help to prevent unethical targeting or customer segmentation?"
   ]
  },
  {
   "cell_type": "markdown",
   "metadata": {},
   "source": [
    "I think the answer depends on the technique. For example, a collaborative recommender system, maybe an Item-Based Collaborative Filtering system, recommends items based on other items. So if Amazon implements this system, then Amazon will recommend you a product that is similar to other products you have purchased. So I would argue that system prevents unethical targeting or customer segmentation.\n",
    "\n",
    "But, a content-based recommender system possibly segments customers based on their attributes. For example, if Spotify were to implement a content-based system and create profiles for each user. Then, the system may unfairly group users based on similar activity/attributes. This would unethically target or segment users that have similar activity on Spotify."
   ]
  }
 ],
 "metadata": {
  "kernelspec": {
   "display_name": "Python 2",
   "language": "python",
   "name": "python2"
  },
  "language_info": {
   "codemirror_mode": {
    "name": "ipython",
    "version": 2
   },
   "file_extension": ".py",
   "mimetype": "text/x-python",
   "name": "python",
   "nbconvert_exporter": "python",
   "pygments_lexer": "ipython2",
   "version": "2.7.14"
  }
 },
 "nbformat": 4,
 "nbformat_minor": 2
}
